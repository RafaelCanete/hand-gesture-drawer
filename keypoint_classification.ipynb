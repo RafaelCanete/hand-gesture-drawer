{
 "cells": [
  {
   "cell_type": "code",
   "execution_count": 1,
   "metadata": {},
   "outputs": [],
   "source": [
    "import csv\n",
    "\n",
    "import numpy as np\n",
    "import tensorflow as tf\n",
    "from sklearn.model_selection import train_test_split\n",
    "\n",
    "RANDOM_SEED = 42"
   ]
  },
  {
   "cell_type": "markdown",
   "metadata": {},
   "source": [
    "# 各パス指定"
   ]
  },
  {
   "cell_type": "code",
   "execution_count": 2,
   "metadata": {},
   "outputs": [],
   "source": [
    "dataset = 'model/keypoint_classifier/keypoint.csv'\n",
    "model_save_path = 'model/keypoint_classifier/keypoint_classifier.hdf5'"
   ]
  },
  {
   "cell_type": "markdown",
   "metadata": {},
   "source": [
    "# 分類数設定"
   ]
  },
  {
   "cell_type": "code",
   "execution_count": 3,
   "metadata": {},
   "outputs": [],
   "source": [
    "NUM_CLASSES = 5"
   ]
  },
  {
   "cell_type": "markdown",
   "metadata": {},
   "source": [
    "# 学習データ読み込み"
   ]
  },
  {
   "cell_type": "code",
   "execution_count": 4,
   "metadata": {},
   "outputs": [],
   "source": [
    "X_dataset = np.loadtxt(dataset, delimiter=',', dtype='float32', usecols=list(range(1, (21 * 2) + 1)))"
   ]
  },
  {
   "cell_type": "code",
   "execution_count": 5,
   "metadata": {},
   "outputs": [],
   "source": [
    "y_dataset = np.loadtxt(dataset, delimiter=',', dtype='int32', usecols=(0))"
   ]
  },
  {
   "cell_type": "code",
   "execution_count": 6,
   "metadata": {},
   "outputs": [],
   "source": [
    "X_train, X_test, y_train, y_test = train_test_split(X_dataset, y_dataset, train_size=0.75, random_state=RANDOM_SEED)"
   ]
  },
  {
   "cell_type": "markdown",
   "metadata": {},
   "source": [
    "# モデル構築"
   ]
  },
  {
   "cell_type": "code",
   "execution_count": 7,
   "metadata": {},
   "outputs": [],
   "source": [
    "model = tf.keras.models.Sequential([\n",
    "    tf.keras.layers.Input((21 * 2, )),\n",
    "    tf.keras.layers.Dropout(0.2),\n",
    "    tf.keras.layers.Dense(20, activation='relu'),\n",
    "    tf.keras.layers.Dropout(0.4),\n",
    "    tf.keras.layers.Dense(10, activation='relu'),\n",
    "    tf.keras.layers.Dense(NUM_CLASSES, activation='softmax')\n",
    "])"
   ]
  },
  {
   "cell_type": "code",
   "execution_count": 8,
   "metadata": {},
   "outputs": [
    {
     "name": "stdout",
     "output_type": "stream",
     "text": [
      "Model: \"sequential\"\n",
      "_________________________________________________________________\n",
      " Layer (type)                Output Shape              Param #   \n",
      "=================================================================\n",
      " dropout (Dropout)           (None, 42)                0         \n",
      "                                                                 \n",
      " dense (Dense)               (None, 20)                860       \n",
      "                                                                 \n",
      " dropout_1 (Dropout)         (None, 20)                0         \n",
      "                                                                 \n",
      " dense_1 (Dense)             (None, 10)                210       \n",
      "                                                                 \n",
      " dense_2 (Dense)             (None, 5)                 55        \n",
      "                                                                 \n",
      "=================================================================\n",
      "Total params: 1,125\n",
      "Trainable params: 1,125\n",
      "Non-trainable params: 0\n",
      "_________________________________________________________________\n"
     ]
    }
   ],
   "source": [
    "model.summary()  # tf.keras.utils.plot_model(model, show_shapes=True)"
   ]
  },
  {
   "cell_type": "code",
   "execution_count": 9,
   "metadata": {},
   "outputs": [],
   "source": [
    "# モデルチェックポイントのコールバック\n",
    "cp_callback = tf.keras.callbacks.ModelCheckpoint(\n",
    "    model_save_path, verbose=1, save_weights_only=False)\n",
    "# 早期打ち切り用コールバック\n",
    "es_callback = tf.keras.callbacks.EarlyStopping(patience=20, verbose=1)"
   ]
  },
  {
   "cell_type": "code",
   "execution_count": 10,
   "metadata": {},
   "outputs": [],
   "source": [
    "# モデルコンパイル\n",
    "model.compile(\n",
    "    optimizer='adam',\n",
    "    loss='sparse_categorical_crossentropy',\n",
    "    metrics=['accuracy']\n",
    ")"
   ]
  },
  {
   "cell_type": "markdown",
   "metadata": {},
   "source": [
    "# モデル訓練"
   ]
  },
  {
   "cell_type": "code",
   "execution_count": 11,
   "metadata": {
    "scrolled": true
   },
   "outputs": [
    {
     "name": "stdout",
     "output_type": "stream",
     "text": [
      "Epoch 1/1000\n",
      " 1/25 [>.............................] - ETA: 12s - loss: 1.5572 - accuracy: 0.3281\n",
      "Epoch 1: saving model to model/keypoint_classifier\\keypoint_classifier.hdf5\n",
      "25/25 [==============================] - 1s 9ms/step - loss: 1.4060 - accuracy: 0.4455 - val_loss: 1.3133 - val_accuracy: 0.4615\n",
      "Epoch 2/1000\n",
      " 1/25 [>.............................] - ETA: 0s - loss: 1.3650 - accuracy: 0.5078\n",
      "Epoch 2: saving model to model/keypoint_classifier\\keypoint_classifier.hdf5\n",
      "25/25 [==============================] - 0s 3ms/step - loss: 1.2343 - accuracy: 0.4889 - val_loss: 1.1079 - val_accuracy: 0.5005\n",
      "Epoch 3/1000\n",
      " 1/25 [>.............................] - ETA: 0s - loss: 1.2015 - accuracy: 0.4844\n",
      "Epoch 3: saving model to model/keypoint_classifier\\keypoint_classifier.hdf5\n",
      "25/25 [==============================] - 0s 3ms/step - loss: 1.1075 - accuracy: 0.4930 - val_loss: 1.0174 - val_accuracy: 0.5850\n",
      "Epoch 4/1000\n",
      " 1/25 [>.............................] - ETA: 0s - loss: 1.0388 - accuracy: 0.5156\n",
      "Epoch 4: saving model to model/keypoint_classifier\\keypoint_classifier.hdf5\n",
      "25/25 [==============================] - 0s 3ms/step - loss: 1.0546 - accuracy: 0.4987 - val_loss: 0.9896 - val_accuracy: 0.5518\n",
      "Epoch 5/1000\n",
      " 1/25 [>.............................] - ETA: 0s - loss: 1.0745 - accuracy: 0.4922\n",
      "Epoch 5: saving model to model/keypoint_classifier\\keypoint_classifier.hdf5\n",
      "25/25 [==============================] - 0s 3ms/step - loss: 1.0299 - accuracy: 0.4934 - val_loss: 0.9724 - val_accuracy: 0.5499\n",
      "Epoch 6/1000\n",
      " 1/25 [>.............................] - ETA: 0s - loss: 1.2011 - accuracy: 0.4062\n",
      "Epoch 6: saving model to model/keypoint_classifier\\keypoint_classifier.hdf5\n",
      "25/25 [==============================] - 0s 3ms/step - loss: 1.0101 - accuracy: 0.5022 - val_loss: 0.9590 - val_accuracy: 0.5565\n",
      "Epoch 7/1000\n",
      " 1/25 [>.............................] - ETA: 0s - loss: 0.9414 - accuracy: 0.5703\n",
      "Epoch 7: saving model to model/keypoint_classifier\\keypoint_classifier.hdf5\n",
      "25/25 [==============================] - 0s 3ms/step - loss: 0.9896 - accuracy: 0.5149 - val_loss: 0.9359 - val_accuracy: 0.5641\n",
      "Epoch 8/1000\n",
      " 1/25 [>.............................] - ETA: 0s - loss: 1.1518 - accuracy: 0.4375\n",
      "Epoch 8: saving model to model/keypoint_classifier\\keypoint_classifier.hdf5\n",
      "25/25 [==============================] - 0s 3ms/step - loss: 0.9821 - accuracy: 0.5120 - val_loss: 0.9119 - val_accuracy: 0.5689\n",
      "Epoch 9/1000\n",
      " 1/25 [>.............................] - ETA: 0s - loss: 0.8806 - accuracy: 0.5703\n",
      "Epoch 9: saving model to model/keypoint_classifier\\keypoint_classifier.hdf5\n",
      "25/25 [==============================] - 0s 3ms/step - loss: 0.9539 - accuracy: 0.5098 - val_loss: 0.8886 - val_accuracy: 0.5973\n",
      "Epoch 10/1000\n",
      " 1/25 [>.............................] - ETA: 0s - loss: 0.9582 - accuracy: 0.5547\n",
      "Epoch 10: saving model to model/keypoint_classifier\\keypoint_classifier.hdf5\n",
      "25/25 [==============================] - 0s 3ms/step - loss: 0.9411 - accuracy: 0.5139 - val_loss: 0.8679 - val_accuracy: 0.5755\n",
      "Epoch 11/1000\n",
      " 1/25 [>.............................] - ETA: 0s - loss: 0.8838 - accuracy: 0.5156\n",
      "Epoch 11: saving model to model/keypoint_classifier\\keypoint_classifier.hdf5\n",
      "25/25 [==============================] - 0s 3ms/step - loss: 0.9206 - accuracy: 0.5310 - val_loss: 0.8427 - val_accuracy: 0.6382\n",
      "Epoch 12/1000\n",
      " 1/25 [>.............................] - ETA: 0s - loss: 0.8657 - accuracy: 0.5547\n",
      "Epoch 12: saving model to model/keypoint_classifier\\keypoint_classifier.hdf5\n",
      "25/25 [==============================] - 0s 3ms/step - loss: 0.9045 - accuracy: 0.5399 - val_loss: 0.8215 - val_accuracy: 0.6391\n",
      "Epoch 13/1000\n",
      " 1/25 [>.............................] - ETA: 0s - loss: 0.9602 - accuracy: 0.4766\n",
      "Epoch 13: saving model to model/keypoint_classifier\\keypoint_classifier.hdf5\n",
      "25/25 [==============================] - 0s 3ms/step - loss: 0.8948 - accuracy: 0.5332 - val_loss: 0.8092 - val_accuracy: 0.6382\n",
      "Epoch 14/1000\n",
      " 1/25 [>.............................] - ETA: 0s - loss: 0.8611 - accuracy: 0.6094\n",
      "Epoch 14: saving model to model/keypoint_classifier\\keypoint_classifier.hdf5\n",
      "25/25 [==============================] - 0s 3ms/step - loss: 0.8762 - accuracy: 0.5326 - val_loss: 0.7811 - val_accuracy: 0.7094\n",
      "Epoch 15/1000\n",
      " 1/25 [>.............................] - ETA: 0s - loss: 0.9608 - accuracy: 0.4766\n",
      "Epoch 15: saving model to model/keypoint_classifier\\keypoint_classifier.hdf5\n",
      "25/25 [==============================] - 0s 3ms/step - loss: 0.8764 - accuracy: 0.5260 - val_loss: 0.7702 - val_accuracy: 0.7085\n",
      "Epoch 16/1000\n",
      " 1/25 [>.............................] - ETA: 0s - loss: 0.8114 - accuracy: 0.5625\n",
      "Epoch 16: saving model to model/keypoint_classifier\\keypoint_classifier.hdf5\n",
      "25/25 [==============================] - 0s 3ms/step - loss: 0.8514 - accuracy: 0.5351 - val_loss: 0.7568 - val_accuracy: 0.7075\n",
      "Epoch 17/1000\n",
      " 1/25 [>.............................] - ETA: 0s - loss: 0.8298 - accuracy: 0.5938\n",
      "Epoch 17: saving model to model/keypoint_classifier\\keypoint_classifier.hdf5\n",
      "25/25 [==============================] - 0s 3ms/step - loss: 0.8493 - accuracy: 0.5535 - val_loss: 0.7388 - val_accuracy: 0.7388\n",
      "Epoch 18/1000\n",
      " 1/25 [>.............................] - ETA: 0s - loss: 0.8334 - accuracy: 0.5547\n",
      "Epoch 18: saving model to model/keypoint_classifier\\keypoint_classifier.hdf5\n",
      "25/25 [==============================] - 0s 3ms/step - loss: 0.8361 - accuracy: 0.5614 - val_loss: 0.7199 - val_accuracy: 0.7483\n",
      "Epoch 19/1000\n",
      " 1/25 [>.............................] - ETA: 0s - loss: 0.7704 - accuracy: 0.6094\n",
      "Epoch 19: saving model to model/keypoint_classifier\\keypoint_classifier.hdf5\n",
      "25/25 [==============================] - 0s 3ms/step - loss: 0.8256 - accuracy: 0.5731 - val_loss: 0.7082 - val_accuracy: 0.7502\n",
      "Epoch 20/1000\n",
      " 1/25 [>.............................] - ETA: 0s - loss: 0.7577 - accuracy: 0.6094\n",
      "Epoch 20: saving model to model/keypoint_classifier\\keypoint_classifier.hdf5\n",
      "25/25 [==============================] - 0s 3ms/step - loss: 0.8157 - accuracy: 0.5744 - val_loss: 0.6908 - val_accuracy: 0.7730\n",
      "Epoch 21/1000\n",
      " 1/25 [>.............................] - ETA: 0s - loss: 0.8893 - accuracy: 0.5234\n",
      "Epoch 21: saving model to model/keypoint_classifier\\keypoint_classifier.hdf5\n",
      "25/25 [==============================] - 0s 3ms/step - loss: 0.8075 - accuracy: 0.5839 - val_loss: 0.6790 - val_accuracy: 0.7806\n",
      "Epoch 22/1000\n",
      " 1/25 [>.............................] - ETA: 0s - loss: 0.8947 - accuracy: 0.4844\n",
      "Epoch 22: saving model to model/keypoint_classifier\\keypoint_classifier.hdf5\n",
      "25/25 [==============================] - 0s 3ms/step - loss: 0.8071 - accuracy: 0.5817 - val_loss: 0.6606 - val_accuracy: 0.7816\n",
      "Epoch 23/1000\n",
      " 1/25 [>.............................] - ETA: 0s - loss: 0.7630 - accuracy: 0.6016\n",
      "Epoch 23: saving model to model/keypoint_classifier\\keypoint_classifier.hdf5\n",
      "25/25 [==============================] - 0s 3ms/step - loss: 0.7786 - accuracy: 0.5956 - val_loss: 0.6509 - val_accuracy: 0.7816\n",
      "Epoch 24/1000\n",
      " 1/25 [>.............................] - ETA: 0s - loss: 0.8221 - accuracy: 0.5547\n",
      "Epoch 24: saving model to model/keypoint_classifier\\keypoint_classifier.hdf5\n",
      "25/25 [==============================] - 0s 3ms/step - loss: 0.7736 - accuracy: 0.5947 - val_loss: 0.6384 - val_accuracy: 0.7569\n",
      "Epoch 25/1000\n",
      " 1/25 [>.............................] - ETA: 0s - loss: 0.7788 - accuracy: 0.5938\n",
      "Epoch 25: saving model to model/keypoint_classifier\\keypoint_classifier.hdf5\n",
      "25/25 [==============================] - 0s 3ms/step - loss: 0.7588 - accuracy: 0.6073 - val_loss: 0.6291 - val_accuracy: 0.7816\n",
      "Epoch 26/1000\n",
      " 1/25 [>.............................] - ETA: 0s - loss: 0.8320 - accuracy: 0.6094\n",
      "Epoch 26: saving model to model/keypoint_classifier\\keypoint_classifier.hdf5\n",
      "25/25 [==============================] - 0s 3ms/step - loss: 0.7646 - accuracy: 0.6023 - val_loss: 0.6146 - val_accuracy: 0.7730\n",
      "Epoch 27/1000\n",
      " 1/25 [>.............................] - ETA: 0s - loss: 0.7555 - accuracy: 0.6406\n",
      "Epoch 27: saving model to model/keypoint_classifier\\keypoint_classifier.hdf5\n",
      "25/25 [==============================] - 0s 3ms/step - loss: 0.7551 - accuracy: 0.6032 - val_loss: 0.6144 - val_accuracy: 0.7721\n",
      "Epoch 28/1000\n",
      " 1/25 [>.............................] - ETA: 0s - loss: 0.7142 - accuracy: 0.6328\n",
      "Epoch 28: saving model to model/keypoint_classifier\\keypoint_classifier.hdf5\n",
      "25/25 [==============================] - 0s 3ms/step - loss: 0.7448 - accuracy: 0.6124 - val_loss: 0.5906 - val_accuracy: 0.8091\n",
      "Epoch 29/1000\n",
      " 1/25 [>.............................] - ETA: 0s - loss: 0.6629 - accuracy: 0.7031\n",
      "Epoch 29: saving model to model/keypoint_classifier\\keypoint_classifier.hdf5\n",
      "25/25 [==============================] - 0s 3ms/step - loss: 0.7358 - accuracy: 0.6292 - val_loss: 0.5872 - val_accuracy: 0.8072\n",
      "Epoch 30/1000\n",
      " 1/25 [>.............................] - ETA: 0s - loss: 0.7131 - accuracy: 0.6562\n",
      "Epoch 30: saving model to model/keypoint_classifier\\keypoint_classifier.hdf5\n",
      "25/25 [==============================] - 0s 3ms/step - loss: 0.7388 - accuracy: 0.6279 - val_loss: 0.5790 - val_accuracy: 0.8348\n",
      "Epoch 31/1000\n",
      " 1/25 [>.............................] - ETA: 0s - loss: 0.6405 - accuracy: 0.6875\n",
      "Epoch 31: saving model to model/keypoint_classifier\\keypoint_classifier.hdf5\n",
      "25/25 [==============================] - 0s 3ms/step - loss: 0.7308 - accuracy: 0.6229 - val_loss: 0.5706 - val_accuracy: 0.8414\n",
      "Epoch 32/1000\n",
      " 1/25 [>.............................] - ETA: 0s - loss: 0.7057 - accuracy: 0.6641\n",
      "Epoch 32: saving model to model/keypoint_classifier\\keypoint_classifier.hdf5\n",
      "25/25 [==============================] - 0s 3ms/step - loss: 0.7302 - accuracy: 0.6333 - val_loss: 0.5604 - val_accuracy: 0.8405\n",
      "Epoch 33/1000\n",
      " 1/25 [>.............................] - ETA: 0s - loss: 0.7046 - accuracy: 0.6406\n",
      "Epoch 33: saving model to model/keypoint_classifier\\keypoint_classifier.hdf5\n",
      "25/25 [==============================] - 0s 3ms/step - loss: 0.7211 - accuracy: 0.6298 - val_loss: 0.5676 - val_accuracy: 0.8281\n",
      "Epoch 34/1000\n",
      " 1/25 [>.............................] - ETA: 0s - loss: 0.6655 - accuracy: 0.6641\n",
      "Epoch 34: saving model to model/keypoint_classifier\\keypoint_classifier.hdf5\n",
      "25/25 [==============================] - 0s 3ms/step - loss: 0.7225 - accuracy: 0.6292 - val_loss: 0.5577 - val_accuracy: 0.8661\n",
      "Epoch 35/1000\n",
      " 1/25 [>.............................] - ETA: 0s - loss: 0.6781 - accuracy: 0.6406\n",
      "Epoch 35: saving model to model/keypoint_classifier\\keypoint_classifier.hdf5\n",
      "25/25 [==============================] - 0s 3ms/step - loss: 0.7214 - accuracy: 0.6301 - val_loss: 0.5489 - val_accuracy: 0.8348\n",
      "Epoch 36/1000\n",
      " 1/25 [>.............................] - ETA: 0s - loss: 0.8308 - accuracy: 0.5859\n",
      "Epoch 36: saving model to model/keypoint_classifier\\keypoint_classifier.hdf5\n",
      "25/25 [==============================] - 0s 3ms/step - loss: 0.7106 - accuracy: 0.6384 - val_loss: 0.5363 - val_accuracy: 0.8613\n",
      "Epoch 37/1000\n",
      " 1/25 [>.............................] - ETA: 0s - loss: 0.7060 - accuracy: 0.6328\n",
      "Epoch 37: saving model to model/keypoint_classifier\\keypoint_classifier.hdf5\n",
      "25/25 [==============================] - 0s 3ms/step - loss: 0.7116 - accuracy: 0.6339 - val_loss: 0.5356 - val_accuracy: 0.8689\n",
      "Epoch 38/1000\n",
      " 1/25 [>.............................] - ETA: 0s - loss: 0.7565 - accuracy: 0.6875\n",
      "Epoch 38: saving model to model/keypoint_classifier\\keypoint_classifier.hdf5\n",
      "25/25 [==============================] - 0s 3ms/step - loss: 0.7061 - accuracy: 0.6479 - val_loss: 0.5334 - val_accuracy: 0.8756\n",
      "Epoch 39/1000\n",
      " 1/25 [>.............................] - ETA: 0s - loss: 0.6023 - accuracy: 0.6797\n",
      "Epoch 39: saving model to model/keypoint_classifier\\keypoint_classifier.hdf5\n",
      "25/25 [==============================] - 0s 3ms/step - loss: 0.7082 - accuracy: 0.6476 - val_loss: 0.5278 - val_accuracy: 0.8841\n",
      "Epoch 40/1000\n",
      " 1/25 [>.............................] - ETA: 0s - loss: 0.6059 - accuracy: 0.7266\n",
      "Epoch 40: saving model to model/keypoint_classifier\\keypoint_classifier.hdf5\n",
      "25/25 [==============================] - 0s 3ms/step - loss: 0.6901 - accuracy: 0.6510 - val_loss: 0.5237 - val_accuracy: 0.8860\n",
      "Epoch 41/1000\n",
      " 1/25 [>.............................] - ETA: 0s - loss: 0.6435 - accuracy: 0.6641\n",
      "Epoch 41: saving model to model/keypoint_classifier\\keypoint_classifier.hdf5\n",
      "25/25 [==============================] - 0s 3ms/step - loss: 0.6874 - accuracy: 0.6583 - val_loss: 0.5289 - val_accuracy: 0.8879\n",
      "Epoch 42/1000\n",
      " 1/25 [>.............................] - ETA: 0s - loss: 0.6399 - accuracy: 0.7344\n",
      "Epoch 42: saving model to model/keypoint_classifier\\keypoint_classifier.hdf5\n",
      "25/25 [==============================] - 0s 3ms/step - loss: 0.6895 - accuracy: 0.6685 - val_loss: 0.5180 - val_accuracy: 0.8737\n",
      "Epoch 43/1000\n",
      " 1/25 [>.............................] - ETA: 0s - loss: 0.6809 - accuracy: 0.5938\n",
      "Epoch 43: saving model to model/keypoint_classifier\\keypoint_classifier.hdf5\n",
      "25/25 [==============================] - 0s 3ms/step - loss: 0.6901 - accuracy: 0.6602 - val_loss: 0.5067 - val_accuracy: 0.8651\n",
      "Epoch 44/1000\n",
      " 1/25 [>.............................] - ETA: 0s - loss: 0.6796 - accuracy: 0.6328\n",
      "Epoch 44: saving model to model/keypoint_classifier\\keypoint_classifier.hdf5\n",
      "25/25 [==============================] - 0s 3ms/step - loss: 0.6721 - accuracy: 0.6656 - val_loss: 0.5016 - val_accuracy: 0.8946\n",
      "Epoch 45/1000\n",
      " 1/25 [>.............................] - ETA: 0s - loss: 0.6822 - accuracy: 0.7031\n",
      "Epoch 45: saving model to model/keypoint_classifier\\keypoint_classifier.hdf5\n",
      "25/25 [==============================] - 0s 3ms/step - loss: 0.6894 - accuracy: 0.6631 - val_loss: 0.5088 - val_accuracy: 0.8965\n",
      "Epoch 46/1000\n",
      " 1/25 [>.............................] - ETA: 0s - loss: 0.6751 - accuracy: 0.7500\n",
      "Epoch 46: saving model to model/keypoint_classifier\\keypoint_classifier.hdf5\n",
      "25/25 [==============================] - 0s 3ms/step - loss: 0.6813 - accuracy: 0.6846 - val_loss: 0.4895 - val_accuracy: 0.9050\n",
      "Epoch 47/1000\n",
      " 1/25 [>.............................] - ETA: 0s - loss: 0.6978 - accuracy: 0.6875\n",
      "Epoch 47: saving model to model/keypoint_classifier\\keypoint_classifier.hdf5\n",
      "25/25 [==============================] - 0s 3ms/step - loss: 0.6676 - accuracy: 0.6691 - val_loss: 0.4873 - val_accuracy: 0.9069\n",
      "Epoch 48/1000\n",
      " 1/25 [>.............................] - ETA: 0s - loss: 0.6984 - accuracy: 0.6250\n",
      "Epoch 48: saving model to model/keypoint_classifier\\keypoint_classifier.hdf5\n",
      "25/25 [==============================] - 0s 3ms/step - loss: 0.6709 - accuracy: 0.6729 - val_loss: 0.4810 - val_accuracy: 0.9079\n",
      "Epoch 49/1000\n",
      " 1/25 [>.............................] - ETA: 0s - loss: 0.6412 - accuracy: 0.6875\n",
      "Epoch 49: saving model to model/keypoint_classifier\\keypoint_classifier.hdf5\n",
      "25/25 [==============================] - 0s 3ms/step - loss: 0.6635 - accuracy: 0.6700 - val_loss: 0.5020 - val_accuracy: 0.8974\n",
      "Epoch 50/1000\n",
      " 1/25 [>.............................] - ETA: 0s - loss: 0.7366 - accuracy: 0.6953\n",
      "Epoch 50: saving model to model/keypoint_classifier\\keypoint_classifier.hdf5\n",
      "25/25 [==============================] - 0s 3ms/step - loss: 0.6625 - accuracy: 0.6837 - val_loss: 0.4889 - val_accuracy: 0.9079\n",
      "Epoch 51/1000\n",
      " 1/25 [>.............................] - ETA: 0s - loss: 0.6947 - accuracy: 0.6641\n",
      "Epoch 51: saving model to model/keypoint_classifier\\keypoint_classifier.hdf5\n",
      "25/25 [==============================] - 0s 3ms/step - loss: 0.6713 - accuracy: 0.6795 - val_loss: 0.4981 - val_accuracy: 0.9003\n",
      "Epoch 52/1000\n",
      " 1/25 [>.............................] - ETA: 0s - loss: 0.6834 - accuracy: 0.6719\n",
      "Epoch 52: saving model to model/keypoint_classifier\\keypoint_classifier.hdf5\n",
      "25/25 [==============================] - 0s 3ms/step - loss: 0.6555 - accuracy: 0.6833 - val_loss: 0.4811 - val_accuracy: 0.8993\n",
      "Epoch 53/1000\n",
      " 1/25 [>.............................] - ETA: 0s - loss: 0.5651 - accuracy: 0.7578\n",
      "Epoch 53: saving model to model/keypoint_classifier\\keypoint_classifier.hdf5\n",
      "25/25 [==============================] - 0s 3ms/step - loss: 0.6453 - accuracy: 0.6837 - val_loss: 0.4865 - val_accuracy: 0.9079\n",
      "Epoch 54/1000\n",
      " 1/25 [>.............................] - ETA: 0s - loss: 0.6715 - accuracy: 0.6875\n",
      "Epoch 54: saving model to model/keypoint_classifier\\keypoint_classifier.hdf5\n",
      "25/25 [==============================] - 0s 3ms/step - loss: 0.6690 - accuracy: 0.6805 - val_loss: 0.4682 - val_accuracy: 0.9183\n",
      "Epoch 55/1000\n",
      " 1/25 [>.............................] - ETA: 0s - loss: 0.7709 - accuracy: 0.5859\n",
      "Epoch 55: saving model to model/keypoint_classifier\\keypoint_classifier.hdf5\n",
      "25/25 [==============================] - 0s 3ms/step - loss: 0.6431 - accuracy: 0.6818 - val_loss: 0.4616 - val_accuracy: 0.9117\n",
      "Epoch 56/1000\n",
      " 1/25 [>.............................] - ETA: 0s - loss: 0.6457 - accuracy: 0.6641\n",
      "Epoch 56: saving model to model/keypoint_classifier\\keypoint_classifier.hdf5\n",
      "25/25 [==============================] - 0s 3ms/step - loss: 0.6685 - accuracy: 0.6748 - val_loss: 0.4771 - val_accuracy: 0.9164\n",
      "Epoch 57/1000\n",
      " 1/25 [>.............................] - ETA: 0s - loss: 0.5977 - accuracy: 0.6797\n",
      "Epoch 57: saving model to model/keypoint_classifier\\keypoint_classifier.hdf5\n",
      "25/25 [==============================] - 0s 3ms/step - loss: 0.6375 - accuracy: 0.6852 - val_loss: 0.4635 - val_accuracy: 0.9202\n",
      "Epoch 58/1000\n",
      " 1/25 [>.............................] - ETA: 0s - loss: 0.7803 - accuracy: 0.6328\n",
      "Epoch 58: saving model to model/keypoint_classifier\\keypoint_classifier.hdf5\n",
      "25/25 [==============================] - 0s 3ms/step - loss: 0.6664 - accuracy: 0.6776 - val_loss: 0.4944 - val_accuracy: 0.8613\n",
      "Epoch 59/1000\n",
      " 1/25 [>.............................] - ETA: 0s - loss: 0.6216 - accuracy: 0.7500\n",
      "Epoch 59: saving model to model/keypoint_classifier\\keypoint_classifier.hdf5\n",
      "25/25 [==============================] - 0s 3ms/step - loss: 0.6434 - accuracy: 0.6976 - val_loss: 0.4608 - val_accuracy: 0.9288\n",
      "Epoch 60/1000\n",
      " 1/25 [>.............................] - ETA: 0s - loss: 0.6385 - accuracy: 0.7031\n",
      "Epoch 60: saving model to model/keypoint_classifier\\keypoint_classifier.hdf5\n",
      "25/25 [==============================] - 0s 3ms/step - loss: 0.6515 - accuracy: 0.6862 - val_loss: 0.4799 - val_accuracy: 0.9050\n",
      "Epoch 61/1000\n",
      " 1/25 [>.............................] - ETA: 0s - loss: 0.6798 - accuracy: 0.6562\n",
      "Epoch 61: saving model to model/keypoint_classifier\\keypoint_classifier.hdf5\n",
      "25/25 [==============================] - 0s 3ms/step - loss: 0.6476 - accuracy: 0.6852 - val_loss: 0.4651 - val_accuracy: 0.8822\n",
      "Epoch 62/1000\n",
      " 1/25 [>.............................] - ETA: 0s - loss: 0.6238 - accuracy: 0.7109\n",
      "Epoch 62: saving model to model/keypoint_classifier\\keypoint_classifier.hdf5\n",
      "25/25 [==============================] - 0s 3ms/step - loss: 0.6344 - accuracy: 0.7017 - val_loss: 0.4588 - val_accuracy: 0.9050\n",
      "Epoch 63/1000\n",
      " 1/25 [>.............................] - ETA: 0s - loss: 0.6989 - accuracy: 0.6641\n",
      "Epoch 63: saving model to model/keypoint_classifier\\keypoint_classifier.hdf5\n",
      "25/25 [==============================] - 0s 3ms/step - loss: 0.6415 - accuracy: 0.7033 - val_loss: 0.4558 - val_accuracy: 0.9136\n",
      "Epoch 64/1000\n",
      " 1/25 [>.............................] - ETA: 0s - loss: 0.6934 - accuracy: 0.6328\n",
      "Epoch 64: saving model to model/keypoint_classifier\\keypoint_classifier.hdf5\n",
      "25/25 [==============================] - 0s 3ms/step - loss: 0.6315 - accuracy: 0.6973 - val_loss: 0.4614 - val_accuracy: 0.9136\n",
      "Epoch 65/1000\n",
      " 1/25 [>.............................] - ETA: 0s - loss: 0.6032 - accuracy: 0.7188\n",
      "Epoch 65: saving model to model/keypoint_classifier\\keypoint_classifier.hdf5\n",
      "25/25 [==============================] - 0s 3ms/step - loss: 0.6414 - accuracy: 0.6887 - val_loss: 0.4733 - val_accuracy: 0.9117\n",
      "Epoch 66/1000\n",
      " 1/25 [>.............................] - ETA: 0s - loss: 0.6539 - accuracy: 0.6875\n",
      "Epoch 66: saving model to model/keypoint_classifier\\keypoint_classifier.hdf5\n",
      "25/25 [==============================] - 0s 3ms/step - loss: 0.6345 - accuracy: 0.6970 - val_loss: 0.4672 - val_accuracy: 0.8936\n",
      "Epoch 67/1000\n",
      " 1/25 [>.............................] - ETA: 0s - loss: 0.5962 - accuracy: 0.6562\n",
      "Epoch 67: saving model to model/keypoint_classifier\\keypoint_classifier.hdf5\n",
      "25/25 [==============================] - 0s 3ms/step - loss: 0.6217 - accuracy: 0.6970 - val_loss: 0.4451 - val_accuracy: 0.9373\n",
      "Epoch 68/1000\n",
      " 1/25 [>.............................] - ETA: 0s - loss: 0.6699 - accuracy: 0.6172\n",
      "Epoch 68: saving model to model/keypoint_classifier\\keypoint_classifier.hdf5\n",
      "25/25 [==============================] - 0s 3ms/step - loss: 0.6269 - accuracy: 0.7020 - val_loss: 0.4584 - val_accuracy: 0.9183\n",
      "Epoch 69/1000\n",
      " 1/25 [>.............................] - ETA: 0s - loss: 0.5600 - accuracy: 0.7500\n",
      "Epoch 69: saving model to model/keypoint_classifier\\keypoint_classifier.hdf5\n",
      "25/25 [==============================] - 0s 3ms/step - loss: 0.6095 - accuracy: 0.7011 - val_loss: 0.4593 - val_accuracy: 0.9126\n",
      "Epoch 70/1000\n",
      " 1/25 [>.............................] - ETA: 0s - loss: 0.5927 - accuracy: 0.6719\n",
      "Epoch 70: saving model to model/keypoint_classifier\\keypoint_classifier.hdf5\n",
      "25/25 [==============================] - 0s 3ms/step - loss: 0.6091 - accuracy: 0.7163 - val_loss: 0.4433 - val_accuracy: 0.9164\n",
      "Epoch 71/1000\n",
      " 1/25 [>.............................] - ETA: 0s - loss: 0.6013 - accuracy: 0.7578\n",
      "Epoch 71: saving model to model/keypoint_classifier\\keypoint_classifier.hdf5\n",
      "25/25 [==============================] - 0s 3ms/step - loss: 0.6174 - accuracy: 0.7125 - val_loss: 0.4365 - val_accuracy: 0.9250\n",
      "Epoch 72/1000\n",
      " 1/25 [>.............................] - ETA: 0s - loss: 0.7076 - accuracy: 0.6562\n",
      "Epoch 72: saving model to model/keypoint_classifier\\keypoint_classifier.hdf5\n",
      "25/25 [==============================] - 0s 3ms/step - loss: 0.6338 - accuracy: 0.6925 - val_loss: 0.4611 - val_accuracy: 0.9145\n",
      "Epoch 73/1000\n",
      " 1/25 [>.............................] - ETA: 0s - loss: 0.5296 - accuracy: 0.7266\n",
      "Epoch 73: saving model to model/keypoint_classifier\\keypoint_classifier.hdf5\n",
      "25/25 [==============================] - 0s 3ms/step - loss: 0.5973 - accuracy: 0.7213 - val_loss: 0.4542 - val_accuracy: 0.9212\n",
      "Epoch 74/1000\n",
      " 1/25 [>.............................] - ETA: 0s - loss: 0.6212 - accuracy: 0.6797\n",
      "Epoch 74: saving model to model/keypoint_classifier\\keypoint_classifier.hdf5\n",
      "25/25 [==============================] - 0s 3ms/step - loss: 0.6004 - accuracy: 0.7315 - val_loss: 0.4205 - val_accuracy: 0.9326\n",
      "Epoch 75/1000\n",
      " 1/25 [>.............................] - ETA: 0s - loss: 0.6489 - accuracy: 0.6797\n",
      "Epoch 75: saving model to model/keypoint_classifier\\keypoint_classifier.hdf5\n",
      "25/25 [==============================] - 0s 3ms/step - loss: 0.6040 - accuracy: 0.7099 - val_loss: 0.4431 - val_accuracy: 0.9117\n",
      "Epoch 76/1000\n",
      " 1/25 [>.............................] - ETA: 0s - loss: 0.5917 - accuracy: 0.7344\n",
      "Epoch 76: saving model to model/keypoint_classifier\\keypoint_classifier.hdf5\n",
      "25/25 [==============================] - 0s 3ms/step - loss: 0.6122 - accuracy: 0.7125 - val_loss: 0.4405 - val_accuracy: 0.9202\n",
      "Epoch 77/1000\n",
      " 1/25 [>.............................] - ETA: 0s - loss: 0.6135 - accuracy: 0.7422\n",
      "Epoch 77: saving model to model/keypoint_classifier\\keypoint_classifier.hdf5\n",
      "25/25 [==============================] - 0s 3ms/step - loss: 0.6109 - accuracy: 0.7166 - val_loss: 0.4324 - val_accuracy: 0.9088\n",
      "Epoch 78/1000\n",
      " 1/25 [>.............................] - ETA: 0s - loss: 0.5621 - accuracy: 0.7188\n",
      "Epoch 78: saving model to model/keypoint_classifier\\keypoint_classifier.hdf5\n",
      "25/25 [==============================] - 0s 3ms/step - loss: 0.6213 - accuracy: 0.7191 - val_loss: 0.4595 - val_accuracy: 0.9126\n",
      "Epoch 79/1000\n",
      " 1/25 [>.............................] - ETA: 0s - loss: 0.5887 - accuracy: 0.6875\n",
      "Epoch 79: saving model to model/keypoint_classifier\\keypoint_classifier.hdf5\n",
      "25/25 [==============================] - 0s 3ms/step - loss: 0.5957 - accuracy: 0.7258 - val_loss: 0.4356 - val_accuracy: 0.9335\n",
      "Epoch 80/1000\n",
      " 1/25 [>.............................] - ETA: 0s - loss: 0.6119 - accuracy: 0.6562\n",
      "Epoch 80: saving model to model/keypoint_classifier\\keypoint_classifier.hdf5\n",
      "25/25 [==============================] - 0s 3ms/step - loss: 0.6095 - accuracy: 0.7144 - val_loss: 0.4349 - val_accuracy: 0.9316\n",
      "Epoch 81/1000\n",
      " 1/25 [>.............................] - ETA: 0s - loss: 0.5986 - accuracy: 0.7109\n",
      "Epoch 81: saving model to model/keypoint_classifier\\keypoint_classifier.hdf5\n",
      "25/25 [==============================] - 0s 3ms/step - loss: 0.6012 - accuracy: 0.7201 - val_loss: 0.4500 - val_accuracy: 0.9193\n",
      "Epoch 82/1000\n",
      " 1/25 [>.............................] - ETA: 0s - loss: 0.5959 - accuracy: 0.6641\n",
      "Epoch 82: saving model to model/keypoint_classifier\\keypoint_classifier.hdf5\n",
      "25/25 [==============================] - 0s 3ms/step - loss: 0.6075 - accuracy: 0.7036 - val_loss: 0.4342 - val_accuracy: 0.9288\n",
      "Epoch 83/1000\n",
      " 1/25 [>.............................] - ETA: 0s - loss: 0.5743 - accuracy: 0.7031\n",
      "Epoch 83: saving model to model/keypoint_classifier\\keypoint_classifier.hdf5\n",
      "25/25 [==============================] - 0s 3ms/step - loss: 0.6036 - accuracy: 0.7103 - val_loss: 0.4426 - val_accuracy: 0.9250\n",
      "Epoch 84/1000\n",
      " 1/25 [>.............................] - ETA: 0s - loss: 0.6131 - accuracy: 0.7188\n",
      "Epoch 84: saving model to model/keypoint_classifier\\keypoint_classifier.hdf5\n",
      "25/25 [==============================] - 0s 3ms/step - loss: 0.6014 - accuracy: 0.7147 - val_loss: 0.4430 - val_accuracy: 0.9202\n",
      "Epoch 85/1000\n",
      " 1/25 [>.............................] - ETA: 0s - loss: 0.6105 - accuracy: 0.7578\n",
      "Epoch 85: saving model to model/keypoint_classifier\\keypoint_classifier.hdf5\n",
      "25/25 [==============================] - 0s 3ms/step - loss: 0.6252 - accuracy: 0.7134 - val_loss: 0.4258 - val_accuracy: 0.9345\n",
      "Epoch 86/1000\n",
      " 1/25 [>.............................] - ETA: 0s - loss: 0.6285 - accuracy: 0.7266\n",
      "Epoch 86: saving model to model/keypoint_classifier\\keypoint_classifier.hdf5\n",
      "25/25 [==============================] - 0s 3ms/step - loss: 0.6062 - accuracy: 0.7185 - val_loss: 0.4472 - val_accuracy: 0.9278\n",
      "Epoch 87/1000\n",
      " 1/25 [>.............................] - ETA: 0s - loss: 0.5514 - accuracy: 0.7500\n",
      "Epoch 87: saving model to model/keypoint_classifier\\keypoint_classifier.hdf5\n",
      "25/25 [==============================] - 0s 3ms/step - loss: 0.5873 - accuracy: 0.7232 - val_loss: 0.4502 - val_accuracy: 0.9212\n",
      "Epoch 88/1000\n",
      " 1/25 [>.............................] - ETA: 0s - loss: 0.5087 - accuracy: 0.7812\n",
      "Epoch 88: saving model to model/keypoint_classifier\\keypoint_classifier.hdf5\n",
      "25/25 [==============================] - 0s 3ms/step - loss: 0.5961 - accuracy: 0.7166 - val_loss: 0.4349 - val_accuracy: 0.9278\n",
      "Epoch 89/1000\n",
      " 1/25 [>.............................] - ETA: 0s - loss: 0.6004 - accuracy: 0.7109\n",
      "Epoch 89: saving model to model/keypoint_classifier\\keypoint_classifier.hdf5\n",
      "25/25 [==============================] - 0s 3ms/step - loss: 0.5795 - accuracy: 0.7274 - val_loss: 0.4245 - val_accuracy: 0.9297\n",
      "Epoch 90/1000\n",
      " 1/25 [>.............................] - ETA: 0s - loss: 0.5939 - accuracy: 0.7344\n",
      "Epoch 90: saving model to model/keypoint_classifier\\keypoint_classifier.hdf5\n",
      "25/25 [==============================] - 0s 3ms/step - loss: 0.5919 - accuracy: 0.7293 - val_loss: 0.4322 - val_accuracy: 0.9117\n",
      "Epoch 91/1000\n",
      " 1/25 [>.............................] - ETA: 0s - loss: 0.6181 - accuracy: 0.6562\n",
      "Epoch 91: saving model to model/keypoint_classifier\\keypoint_classifier.hdf5\n",
      "25/25 [==============================] - 0s 3ms/step - loss: 0.5893 - accuracy: 0.7169 - val_loss: 0.4385 - val_accuracy: 0.9174\n",
      "Epoch 92/1000\n",
      " 1/25 [>.............................] - ETA: 0s - loss: 0.5259 - accuracy: 0.7969\n",
      "Epoch 92: saving model to model/keypoint_classifier\\keypoint_classifier.hdf5\n",
      "25/25 [==============================] - 0s 3ms/step - loss: 0.5900 - accuracy: 0.7255 - val_loss: 0.4446 - val_accuracy: 0.8984\n",
      "Epoch 93/1000\n",
      " 1/25 [>.............................] - ETA: 0s - loss: 0.6000 - accuracy: 0.6641\n",
      "Epoch 93: saving model to model/keypoint_classifier\\keypoint_classifier.hdf5\n",
      "25/25 [==============================] - 0s 3ms/step - loss: 0.5954 - accuracy: 0.7194 - val_loss: 0.4503 - val_accuracy: 0.9193\n",
      "Epoch 94/1000\n",
      " 1/25 [>.............................] - ETA: 0s - loss: 0.5910 - accuracy: 0.7578\n",
      "Epoch 94: saving model to model/keypoint_classifier\\keypoint_classifier.hdf5\n",
      "25/25 [==============================] - 0s 3ms/step - loss: 0.5813 - accuracy: 0.7321 - val_loss: 0.4301 - val_accuracy: 0.9288\n",
      "Epoch 94: early stopping\n"
     ]
    },
    {
     "data": {
      "text/plain": [
       "<keras.callbacks.History at 0x2153ab25be0>"
      ]
     },
     "execution_count": 11,
     "metadata": {},
     "output_type": "execute_result"
    }
   ],
   "source": [
    "model.fit(\n",
    "    X_train,\n",
    "    y_train,\n",
    "    epochs=1000,\n",
    "    batch_size=128,\n",
    "    validation_data=(X_test, y_test),\n",
    "    callbacks=[cp_callback, es_callback]\n",
    ")"
   ]
  },
  {
   "cell_type": "code",
   "execution_count": 12,
   "metadata": {},
   "outputs": [
    {
     "name": "stdout",
     "output_type": "stream",
     "text": [
      "9/9 [==============================] - 0s 1ms/step - loss: 0.4301 - accuracy: 0.9288\n"
     ]
    }
   ],
   "source": [
    "# モデル評価\n",
    "val_loss, val_acc = model.evaluate(X_test, y_test, batch_size=128)"
   ]
  },
  {
   "cell_type": "code",
   "execution_count": 13,
   "metadata": {},
   "outputs": [],
   "source": [
    "# 保存したモデルのロード\n",
    "model = tf.keras.models.load_model(model_save_path)"
   ]
  },
  {
   "cell_type": "code",
   "execution_count": 14,
   "metadata": {},
   "outputs": [
    {
     "name": "stdout",
     "output_type": "stream",
     "text": [
      "1/1 [==============================] - 0s 63ms/step\n",
      "[7.0357209e-01 2.9185191e-01 4.5745908e-03 1.2406241e-06 1.3316208e-07]\n",
      "0\n"
     ]
    }
   ],
   "source": [
    "# 推論テスト\n",
    "predict_result = model.predict(np.array([X_test[0]]))\n",
    "print(np.squeeze(predict_result))\n",
    "print(np.argmax(np.squeeze(predict_result)))"
   ]
  },
  {
   "cell_type": "markdown",
   "metadata": {},
   "source": [
    "# 混同行列"
   ]
  },
  {
   "cell_type": "code",
   "execution_count": 15,
   "metadata": {},
   "outputs": [
    {
     "name": "stdout",
     "output_type": "stream",
     "text": [
      "33/33 [==============================] - 0s 718us/step\n"
     ]
    },
    {
     "data": {
      "image/png": "[encoded data removed]",
      "text/plain": [
       "<Figure size 700x600 with 2 Axes>"
      ]
     },
     "metadata": {},
     "output_type": "display_data"
    },
    {
     "name": "stdout",
     "output_type": "stream",
     "text": [
      "Classification Report\n",
      "              precision    recall  f1-score   support\n",
      "\n",
      "           0       0.88      0.96      0.91       411\n",
      "           1       0.96      0.89      0.93       527\n",
      "           2       0.98      0.98      0.98        60\n",
      "           3       1.00      1.00      1.00        55\n",
      "\n",
      "    accuracy                           0.93      1053\n",
      "   macro avg       0.96      0.96      0.96      1053\n",
      "weighted avg       0.93      0.93      0.93      1053\n",
      "\n"
     ]
    }
   ],
   "source": [
    "import pandas as pd\n",
    "import seaborn as sns\n",
    "import matplotlib.pyplot as plt\n",
    "from sklearn.metrics import confusion_matrix, classification_report\n",
    "\n",
    "def print_confusion_matrix(y_true, y_pred, report=True):\n",
    "    labels = sorted(list(set(y_true)))\n",
    "    cmx_data = confusion_matrix(y_true, y_pred, labels=labels)\n",
    "    \n",
    "    df_cmx = pd.DataFrame(cmx_data, index=labels, columns=labels)\n",
    " \n",
    "    fig, ax = plt.subplots(figsize=(7, 6))\n",
    "    sns.heatmap(df_cmx, annot=True, fmt='g' ,square=False)\n",
    "    ax.set_ylim(len(set(y_true)), 0)\n",
    "    plt.show()\n",
    "    \n",
    "    if report:\n",
    "        print('Classification Report')\n",
    "        print(classification_report(y_test, y_pred))\n",
    "\n",
    "Y_pred = model.predict(X_test)\n",
    "y_pred = np.argmax(Y_pred, axis=1)\n",
    "\n",
    "print_confusion_matrix(y_test, y_pred)"
   ]
  },
  {
   "cell_type": "markdown",
   "metadata": {},
   "source": [
    "# Tensorflow-Lite用のモデルへ変換"
   ]
  },
  {
   "cell_type": "code",
   "execution_count": 16,
   "metadata": {},
   "outputs": [],
   "source": [
    "# 推論専用のモデルとして保存\n",
    "model.save(model_save_path, include_optimizer=False)"
   ]
  },
  {
   "cell_type": "code",
   "execution_count": 17,
   "metadata": {},
   "outputs": [
    {
     "name": "stderr",
     "output_type": "stream",
     "text": [
      "WARNING:absl:Found untraced functions such as _update_step_xla while saving (showing 1 of 1). These functions will not be directly callable after loading.\n"
     ]
    },
    {
     "name": "stdout",
     "output_type": "stream",
     "text": [
      "INFO:tensorflow:Assets written to: C:\\Users\\rafae\\AppData\\Local\\Temp\\tmp0qp5kru4\\assets\n"
     ]
    },
    {
     "name": "stderr",
     "output_type": "stream",
     "text": [
      "INFO:tensorflow:Assets written to: C:\\Users\\rafae\\AppData\\Local\\Temp\\tmp0qp5kru4\\assets\n"
     ]
    },
    {
     "data": {
      "text/plain": [
       "6588"
      ]
     },
     "execution_count": 17,
     "metadata": {},
     "output_type": "execute_result"
    }
   ],
   "source": [
    "# モデルを変換(量子化)\n",
    "tflite_save_path = 'model/keypoint_classifier/keypoint_classifier.tflite'\n",
    "\n",
    "converter = tf.lite.TFLiteConverter.from_keras_model(model)\n",
    "converter.optimizations = [tf.lite.Optimize.DEFAULT]\n",
    "tflite_quantized_model = converter.convert()\n",
    "\n",
    "open(tflite_save_path, 'wb').write(tflite_quantized_model)"
   ]
  },
  {
   "cell_type": "markdown",
   "metadata": {},
   "source": [
    "# 推論テスト"
   ]
  },
  {
   "cell_type": "code",
   "execution_count": 18,
   "metadata": {},
   "outputs": [],
   "source": [
    "interpreter = tf.lite.Interpreter(model_path=tflite_save_path)\n",
    "interpreter.allocate_tensors()"
   ]
  },
  {
   "cell_type": "code",
   "execution_count": 19,
   "metadata": {},
   "outputs": [],
   "source": [
    "# 入出力テンソルを取得\n",
    "input_details = interpreter.get_input_details()\n",
    "output_details = interpreter.get_output_details()"
   ]
  },
  {
   "cell_type": "code",
   "execution_count": 20,
   "metadata": {},
   "outputs": [],
   "source": [
    "interpreter.set_tensor(input_details[0]['index'], np.array([X_test[0]]))"
   ]
  },
  {
   "cell_type": "code",
   "execution_count": 21,
   "metadata": {
    "scrolled": true
   },
   "outputs": [
    {
     "name": "stdout",
     "output_type": "stream",
     "text": [
      "CPU times: total: 0 ns\n",
      "Wall time: 0 ns\n"
     ]
    }
   ],
   "source": [
    "%%time\n",
    "# 推論実施\n",
    "interpreter.invoke()\n",
    "tflite_results = interpreter.get_tensor(output_details[0]['index'])"
   ]
  },
  {
   "cell_type": "code",
   "execution_count": 22,
   "metadata": {},
   "outputs": [
    {
     "name": "stdout",
     "output_type": "stream",
     "text": [
      "[7.0357221e-01 2.9185182e-01 4.5745908e-03 1.2406255e-06 1.3316208e-07]\n",
      "0\n"
     ]
    }
   ],
   "source": [
    "print(np.squeeze(tflite_results))\n",
    "print(np.argmax(np.squeeze(tflite_results)))"
   ]
  },
  {
   "cell_type": "code",
   "execution_count": null,
   "metadata": {},
   "outputs": [],
   "source": []
  }
 ],
 "metadata": {
  "kernelspec": {
   "display_name": "Python 3 (ipykernel)",
   "language": "python",
   "name": "python3"
  },
  "language_info": {
   "codemirror_mode": {
    "name": "ipython",
    "version": 3
   },
   "file_extension": ".py",
   "mimetype": "text/x-python",
   "name": "python",
   "nbconvert_exporter": "python",
   "pygments_lexer": "ipython3",
   "version": "3.8.9"
  }
 },
 "nbformat": 4,
 "nbformat_minor": 4
}
